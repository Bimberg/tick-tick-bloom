{
 "cells": [
  {
   "cell_type": "code",
   "execution_count": 25,
   "metadata": {},
   "outputs": [],
   "source": [
    "import climatedata_functions as climf\n",
    "\n",
    "import pandas as pd\n",
    "import numpy as np\n",
    "import matplotlib.pyplot as plt\n",
    "import seaborn as sns\n",
    "from datetime import date, timedelta, datetime\n",
    "from tqdm import tqdm\n"
   ]
  },
  {
   "cell_type": "code",
   "execution_count": 26,
   "metadata": {},
   "outputs": [],
   "source": [
    "def join_time_values(a, b, c, d):\n",
    "    result = [0] * (len(a) + len(b) + len(c) + len(d))\n",
    "    result[::4]  = a[::-1]\n",
    "    result[1::4] = b[::-1]\n",
    "    result[2::4] = c[::-1]\n",
    "    result[3::4] = d[::-1]\n",
    "    return result"
   ]
  },
  {
   "attachments": {},
   "cell_type": "markdown",
   "metadata": {},
   "source": [
    "## Temperature"
   ]
  },
  {
   "cell_type": "code",
   "execution_count": 27,
   "metadata": {},
   "outputs": [],
   "source": [
    "metadata = pd.read_csv(\"../data/metadata_temp_12_01_06_complete_without_a.csv\")\n",
    "features = ['Unnamed: 0', 'Unnamed: 0.1', 'Unnamed: 0.1.1', 'Unnamed: 0.1.1.1','longitude_trans','x_grid','y_grid','temp_01']\n",
    "temp_00 = pd.read_csv(\"../data/temp_00.csv\")\n",
    "temp_18 = pd.read_csv(\"../data/temp_18.csv\")\n",
    "metadata.drop(features, axis=1, inplace=True)"
   ]
  },
  {
   "cell_type": "code",
   "execution_count": 28,
   "metadata": {},
   "outputs": [
    {
     "data": {
      "text/html": [
       "<div>\n",
       "<style scoped>\n",
       "    .dataframe tbody tr th:only-of-type {\n",
       "        vertical-align: middle;\n",
       "    }\n",
       "\n",
       "    .dataframe tbody tr th {\n",
       "        vertical-align: top;\n",
       "    }\n",
       "\n",
       "    .dataframe thead th {\n",
       "        text-align: right;\n",
       "    }\n",
       "</style>\n",
       "<table border=\"1\" class=\"dataframe\">\n",
       "  <thead>\n",
       "    <tr style=\"text-align: right;\">\n",
       "      <th></th>\n",
       "      <th>uid</th>\n",
       "      <th>latitude</th>\n",
       "      <th>longitude</th>\n",
       "      <th>date</th>\n",
       "      <th>split</th>\n",
       "      <th>t_12</th>\n",
       "      <th>t_6</th>\n",
       "      <th>t_0</th>\n",
       "      <th>t_18</th>\n",
       "    </tr>\n",
       "  </thead>\n",
       "  <tbody>\n",
       "    <tr>\n",
       "      <th>0</th>\n",
       "      <td>aabm</td>\n",
       "      <td>39.080319</td>\n",
       "      <td>-86.430867</td>\n",
       "      <td>2018-05-14</td>\n",
       "      <td>train</td>\n",
       "      <td>[287.3912, 287.32434, 287.29132, 287.193, 287....</td>\n",
       "      <td>[287.36844, 287.32245, 287.33054, 287.1744, 28...</td>\n",
       "      <td>[287.33194, 287.3078, 287.20935, 287.0335, 286...</td>\n",
       "      <td>[287.39413, 287.3707, 287.28082, 287.17728, 28...</td>\n",
       "    </tr>\n",
       "  </tbody>\n",
       "</table>\n",
       "</div>"
      ],
      "text/plain": [
       "    uid   latitude  longitude        date  split  \\\n",
       "0  aabm  39.080319 -86.430867  2018-05-14  train   \n",
       "\n",
       "                                                t_12  \\\n",
       "0  [287.3912, 287.32434, 287.29132, 287.193, 287....   \n",
       "\n",
       "                                                 t_6  \\\n",
       "0  [287.36844, 287.32245, 287.33054, 287.1744, 28...   \n",
       "\n",
       "                                                 t_0  \\\n",
       "0  [287.33194, 287.3078, 287.20935, 287.0335, 286...   \n",
       "\n",
       "                                                t_18  \n",
       "0  [287.39413, 287.3707, 287.28082, 287.17728, 28...  "
      ]
     },
     "execution_count": 28,
     "metadata": {},
     "output_type": "execute_result"
    }
   ],
   "source": [
    "metadata = metadata.merge(temp_00[['uid','t_0']] , how=\"inner\", on='uid' , validate=\"1:1\")\n",
    "metadata = metadata.merge(temp_18[['uid','t_18']] , how=\"inner\", on='uid' , validate=\"1:1\")\n",
    "metadata = metadata.rename(columns={'temp_06': 't_6','temp_12': 't_12'})\n",
    "\n",
    "features = ['t_0', 't_6', 't_12', 't_18']\n",
    "temp = climf.convert_str_to_list(metadata, features)\n",
    "temp.head(1)"
   ]
  },
  {
   "cell_type": "code",
   "execution_count": 29,
   "metadata": {},
   "outputs": [],
   "source": [
    "temp.to_csv(f'../data/temperature.csv', index=False)"
   ]
  },
  {
   "cell_type": "code",
   "execution_count": null,
   "metadata": {},
   "outputs": [],
   "source": [
    "#temperature\n",
    "for row in (pbar := tqdm(temp.itertuples(), total=len(temp))):\n",
    "    print(row)\n",
    "    time_ser = climf.join_time_values(row.t_0, row.t_6, row.t_12, row.t_18)\n",
    "    temp.loc[temp['uid'] == row.uid, ['temp']] = str(time_ser)"
   ]
  },
  {
   "cell_type": "code",
   "execution_count": 31,
   "metadata": {},
   "outputs": [
    {
     "data": {
      "text/html": [
       "<div>\n",
       "<style scoped>\n",
       "    .dataframe tbody tr th:only-of-type {\n",
       "        vertical-align: middle;\n",
       "    }\n",
       "\n",
       "    .dataframe tbody tr th {\n",
       "        vertical-align: top;\n",
       "    }\n",
       "\n",
       "    .dataframe thead th {\n",
       "        text-align: right;\n",
       "    }\n",
       "</style>\n",
       "<table border=\"1\" class=\"dataframe\">\n",
       "  <thead>\n",
       "    <tr style=\"text-align: right;\">\n",
       "      <th></th>\n",
       "      <th>uid</th>\n",
       "      <th>latitude</th>\n",
       "      <th>longitude</th>\n",
       "      <th>date</th>\n",
       "      <th>split</th>\n",
       "      <th>temp</th>\n",
       "    </tr>\n",
       "  </thead>\n",
       "  <tbody>\n",
       "    <tr>\n",
       "      <th>0</th>\n",
       "      <td>aabm</td>\n",
       "      <td>39.080319</td>\n",
       "      <td>-86.430867</td>\n",
       "      <td>2018-05-14</td>\n",
       "      <td>train</td>\n",
       "      <td>[286.6784, 286.74725, 286.69934, 286.7568, 286...</td>\n",
       "    </tr>\n",
       "  </tbody>\n",
       "</table>\n",
       "</div>"
      ],
      "text/plain": [
       "    uid   latitude  longitude        date  split  \\\n",
       "0  aabm  39.080319 -86.430867  2018-05-14  train   \n",
       "\n",
       "                                                temp  \n",
       "0  [286.6784, 286.74725, 286.69934, 286.7568, 286...  "
      ]
     },
     "execution_count": 31,
     "metadata": {},
     "output_type": "execute_result"
    }
   ],
   "source": [
    "temp = temp.drop(['t_12', 't_6', 't_0', 't_18'], axis=1)\n",
    "temp.to_csv('../data/temperature_series.csv', index=False)\n",
    "temp.head(1)"
   ]
  },
  {
   "attachments": {},
   "cell_type": "markdown",
   "metadata": {},
   "source": [
    "### Join with data 14days prior sampling"
   ]
  },
  {
   "cell_type": "code",
   "execution_count": 32,
   "metadata": {},
   "outputs": [
    {
     "data": {
      "text/html": [
       "<div>\n",
       "<style scoped>\n",
       "    .dataframe tbody tr th:only-of-type {\n",
       "        vertical-align: middle;\n",
       "    }\n",
       "\n",
       "    .dataframe tbody tr th {\n",
       "        vertical-align: top;\n",
       "    }\n",
       "\n",
       "    .dataframe thead th {\n",
       "        text-align: right;\n",
       "    }\n",
       "</style>\n",
       "<table border=\"1\" class=\"dataframe\">\n",
       "  <thead>\n",
       "    <tr style=\"text-align: right;\">\n",
       "      <th></th>\n",
       "      <th>uid</th>\n",
       "      <th>latitude</th>\n",
       "      <th>longitude</th>\n",
       "      <th>date</th>\n",
       "      <th>split</th>\n",
       "      <th>longitude_trans</th>\n",
       "      <th>x_grid</th>\n",
       "      <th>y_grid</th>\n",
       "      <th>t_0</th>\n",
       "      <th>t_6</th>\n",
       "      <th>t_12</th>\n",
       "      <th>t_18</th>\n",
       "    </tr>\n",
       "  </thead>\n",
       "  <tbody>\n",
       "    <tr>\n",
       "      <th>0</th>\n",
       "      <td>aabm</td>\n",
       "      <td>39.080319</td>\n",
       "      <td>-86.430867</td>\n",
       "      <td>2018-05-14</td>\n",
       "      <td>train</td>\n",
       "      <td>273.569133</td>\n",
       "      <td>570</td>\n",
       "      <td>1217</td>\n",
       "      <td>[286.12405, 286.0968]</td>\n",
       "      <td>[286.211, 286.15918]</td>\n",
       "      <td>[286.21497, 286.1375]</td>\n",
       "      <td>[286.18774, 286.1701]</td>\n",
       "    </tr>\n",
       "  </tbody>\n",
       "</table>\n",
       "</div>"
      ],
      "text/plain": [
       "    uid   latitude  longitude        date  split  longitude_trans  x_grid  \\\n",
       "0  aabm  39.080319 -86.430867  2018-05-14  train       273.569133     570   \n",
       "\n",
       "   y_grid                    t_0                   t_6                   t_12  \\\n",
       "0    1217  [286.12405, 286.0968]  [286.211, 286.15918]  [286.21497, 286.1375]   \n",
       "\n",
       "                    t_18  \n",
       "0  [286.18774, 286.1701]  "
      ]
     },
     "execution_count": 32,
     "metadata": {},
     "output_type": "execute_result"
    }
   ],
   "source": [
    "temp_before = pd.read_csv(\"../data/t_18_14_15_d_before.csv\")\n",
    "features = ['Unnamed: 0', 'Unnamed: 0.1', 'Unnamed: 0.1.1', 'Unnamed: 0.1.1.1', 'temp_01', 'temp_12', 'temp_06', 'dswrf_0']\n",
    "temp_before = temp_before.drop(features, axis = 1)\n",
    "temp_before.head(1)"
   ]
  },
  {
   "cell_type": "code",
   "execution_count": 33,
   "metadata": {},
   "outputs": [
    {
     "data": {
      "text/html": [
       "<div>\n",
       "<style scoped>\n",
       "    .dataframe tbody tr th:only-of-type {\n",
       "        vertical-align: middle;\n",
       "    }\n",
       "\n",
       "    .dataframe tbody tr th {\n",
       "        vertical-align: top;\n",
       "    }\n",
       "\n",
       "    .dataframe thead th {\n",
       "        text-align: right;\n",
       "    }\n",
       "</style>\n",
       "<table border=\"1\" class=\"dataframe\">\n",
       "  <thead>\n",
       "    <tr style=\"text-align: right;\">\n",
       "      <th></th>\n",
       "      <th>uid</th>\n",
       "      <th>latitude</th>\n",
       "      <th>longitude</th>\n",
       "      <th>date</th>\n",
       "      <th>split</th>\n",
       "      <th>temp</th>\n",
       "      <th>t_0</th>\n",
       "      <th>t_6</th>\n",
       "      <th>t_12</th>\n",
       "      <th>t_18</th>\n",
       "      <th>x_grid</th>\n",
       "      <th>y_grid</th>\n",
       "    </tr>\n",
       "  </thead>\n",
       "  <tbody>\n",
       "    <tr>\n",
       "      <th>0</th>\n",
       "      <td>aabm</td>\n",
       "      <td>39.080319</td>\n",
       "      <td>-86.430867</td>\n",
       "      <td>2018-05-14</td>\n",
       "      <td>train</td>\n",
       "      <td>[286.6784, 286.74725, 286.69934, 286.7568, 286...</td>\n",
       "      <td>[286.12405, 286.0968]</td>\n",
       "      <td>[286.211, 286.15918]</td>\n",
       "      <td>[286.21497, 286.1375]</td>\n",
       "      <td>[286.18774, 286.1701]</td>\n",
       "      <td>570</td>\n",
       "      <td>1217</td>\n",
       "    </tr>\n",
       "  </tbody>\n",
       "</table>\n",
       "</div>"
      ],
      "text/plain": [
       "    uid   latitude  longitude        date  split  \\\n",
       "0  aabm  39.080319 -86.430867  2018-05-14  train   \n",
       "\n",
       "                                                temp                    t_0  \\\n",
       "0  [286.6784, 286.74725, 286.69934, 286.7568, 286...  [286.12405, 286.0968]   \n",
       "\n",
       "                    t_6                   t_12                   t_18  x_grid  \\\n",
       "0  [286.211, 286.15918]  [286.21497, 286.1375]  [286.18774, 286.1701]     570   \n",
       "\n",
       "   y_grid  \n",
       "0    1217  "
      ]
     },
     "execution_count": 33,
     "metadata": {},
     "output_type": "execute_result"
    }
   ],
   "source": [
    "temp = temp.merge(temp_before[['uid','t_0', 't_6', 't_12', 't_18', 'x_grid', 'y_grid']] , how=\"inner\", on='uid' , validate=\"1:1\")\n",
    "temp.head(1)"
   ]
  },
  {
   "cell_type": "code",
   "execution_count": 34,
   "metadata": {},
   "outputs": [
    {
     "name": "stdout",
     "output_type": "stream",
     "text": [
      "2020-09-15\n"
     ]
    }
   ],
   "source": [
    "#there ws one erronous line --> the data for that was dowloaded again with this code:\n",
    "days = 2  #how many days to go back?\n",
    "hour = 12 #which our of the day (UTS time!!!)# we want to test: 6,12,18,24\n",
    "param_layer = ':TMP:surface' # options: ':TMP:surface', ' \":DSWRF:surface\"'  surface temperature, #available parameters and layes: https://www.nco.ncep.noaa.gov/pmb/products/hrrr/hrrr.t00z.wrfsfcf00.grib2.shtml\n",
    "forecast_param = 't'#for temperature: 't', for wind:10maboveground: 'si10', for dswrf: 'dswrf' for name of the column in the metadata and the grib2 data\n",
    "\n",
    "\n",
    "#from tqdm import tqdm\n",
    "#pbar.set_description(f\"Processing {start_date} --> {temp_list[0][0]}\")\n",
    "\n",
    "from datetime import timedelta\n",
    "import warnings\n",
    "warnings.simplefilter(action='ignore')\n",
    "\n",
    "#make empty list to store the dates already sampled\n",
    "start_date = temp.date.iloc[4853]#4853\n",
    "date_index_list = temp.index[temp.date == start_date]#list with all the indexes of dates with the same date\n",
    "temp_list = [[0] * days for i in range(len(date_index_list))]#make list of lists to store the values inside\n",
    "start_date = climf.get_start_date(start_date)#formate to time object\n",
    "print(start_date)\n",
    "for x in range(days):\n",
    "    count = 0\n",
    "    #x = x*2 (if we want to take only every second day)\n",
    "    day_date = start_date - timedelta(days=x+14)\n",
    "    #ds, stop = climf.get_ds_aws_array(day_date, hour,param_layer, forecast_param)#getting the temperature array for the specified date\n",
    "    ds, stop = climf.get_ds_aws_array(day_date, hour,param_layer, forecast_param)#getting the temperature array for the specified date\n",
    "    for index in date_index_list:\n",
    "        x_grid = temp.x_grid[index]\n",
    "        y_grid = temp.y_grid[index]\n",
    "        if stop == True:\n",
    "            temp_list[count][x] = np.nan\n",
    "        else:\n",
    "            temp_list[count][x] = ds[x_grid][y_grid]\n",
    "        count += 1\n",
    "        if x == days-1 and index == date_index_list[len(date_index_list)-1]:#if condition is met put the values in the metadata file\n",
    "            for i in range(len(temp_list)):                    \n",
    "                temp[forecast_param+'_'+str(hour)].loc[date_index_list[i]] = temp_list[i] #not index but  \n"
   ]
  },
  {
   "cell_type": "code",
   "execution_count": 35,
   "metadata": {},
   "outputs": [
    {
     "data": {
      "text/html": [
       "<div>\n",
       "<style scoped>\n",
       "    .dataframe tbody tr th:only-of-type {\n",
       "        vertical-align: middle;\n",
       "    }\n",
       "\n",
       "    .dataframe tbody tr th {\n",
       "        vertical-align: top;\n",
       "    }\n",
       "\n",
       "    .dataframe thead th {\n",
       "        text-align: right;\n",
       "    }\n",
       "</style>\n",
       "<table border=\"1\" class=\"dataframe\">\n",
       "  <thead>\n",
       "    <tr style=\"text-align: right;\">\n",
       "      <th></th>\n",
       "      <th>uid</th>\n",
       "      <th>latitude</th>\n",
       "      <th>longitude</th>\n",
       "      <th>date</th>\n",
       "      <th>split</th>\n",
       "      <th>temp</th>\n",
       "      <th>t_0</th>\n",
       "      <th>t_6</th>\n",
       "      <th>t_12</th>\n",
       "      <th>t_18</th>\n",
       "      <th>x_grid</th>\n",
       "      <th>y_grid</th>\n",
       "    </tr>\n",
       "  </thead>\n",
       "  <tbody>\n",
       "    <tr>\n",
       "      <th>0</th>\n",
       "      <td>aabm</td>\n",
       "      <td>39.080319</td>\n",
       "      <td>-86.430867</td>\n",
       "      <td>2018-05-14</td>\n",
       "      <td>train</td>\n",
       "      <td>[286.6784, 286.74725, 286.69934, 286.7568, 286...</td>\n",
       "      <td>[286.12405, 286.0968]</td>\n",
       "      <td>[286.211, 286.15918]</td>\n",
       "      <td>[286.21497, 286.1375]</td>\n",
       "      <td>[286.18774, 286.1701]</td>\n",
       "      <td>570</td>\n",
       "      <td>1217</td>\n",
       "    </tr>\n",
       "  </tbody>\n",
       "</table>\n",
       "</div>"
      ],
      "text/plain": [
       "    uid   latitude  longitude        date  split  \\\n",
       "0  aabm  39.080319 -86.430867  2018-05-14  train   \n",
       "\n",
       "                                                temp                    t_0  \\\n",
       "0  [286.6784, 286.74725, 286.69934, 286.7568, 286...  [286.12405, 286.0968]   \n",
       "\n",
       "                    t_6                   t_12                   t_18  x_grid  \\\n",
       "0  [286.211, 286.15918]  [286.21497, 286.1375]  [286.18774, 286.1701]     570   \n",
       "\n",
       "   y_grid  \n",
       "0    1217  "
      ]
     },
     "execution_count": 35,
     "metadata": {},
     "output_type": "execute_result"
    }
   ],
   "source": [
    "features = ['t_0', 't_6', 't_12', 't_18']\n",
    "temp = convert_to_str(temp, features)\n",
    "temp = climf.convert_str_to_list(temp, features)\n",
    "temp.head(1)"
   ]
  },
  {
   "cell_type": "code",
   "execution_count": null,
   "metadata": {},
   "outputs": [],
   "source": [
    "#temperature\n",
    "for row in (pbar := tqdm(temp.itertuples(), total=len(temp))):\n",
    "    print(row)\n",
    "    time_ser = join_time_values(row.t_0, row.t_6, row.t_12, row.t_18)\n",
    "    temp.loc[temp['uid'] == row.uid, ['temp_14_15d_before']] = str(time_ser) \n",
    "temp.head(3)"
   ]
  },
  {
   "cell_type": "code",
   "execution_count": 37,
   "metadata": {},
   "outputs": [],
   "source": [
    "temp = temp.drop(['t_12', 't_6', 't_0', 't_18', 'x_grid', 'y_grid'], axis=1)\n",
    "temp.to_csv('../data/temperature_series.csv', index=False)\n"
   ]
  },
  {
   "attachments": {},
   "cell_type": "markdown",
   "metadata": {},
   "source": [
    "## Wind"
   ]
  },
  {
   "cell_type": "code",
   "execution_count": 24,
   "metadata": {},
   "outputs": [],
   "source": [
    "wind_0 = pd.read_csv(\"../data/wind_0.csv\")\n",
    "wind_6 = pd.read_csv(\"../data/metadata_si10_6_complete.csv\")\n",
    "wind_12 = pd.read_csv(\"../data/metadata_si10_12_complete.csv\")\n",
    "wind_18 = pd.read_csv(\"../data/metadata_si10_18_complete.csv\")"
   ]
  },
  {
   "cell_type": "code",
   "execution_count": 69,
   "metadata": {},
   "outputs": [
    {
     "data": {
      "text/html": [
       "<div>\n",
       "<style scoped>\n",
       "    .dataframe tbody tr th:only-of-type {\n",
       "        vertical-align: middle;\n",
       "    }\n",
       "\n",
       "    .dataframe tbody tr th {\n",
       "        vertical-align: top;\n",
       "    }\n",
       "\n",
       "    .dataframe thead th {\n",
       "        text-align: right;\n",
       "    }\n",
       "</style>\n",
       "<table border=\"1\" class=\"dataframe\">\n",
       "  <thead>\n",
       "    <tr style=\"text-align: right;\">\n",
       "      <th></th>\n",
       "      <th>uid</th>\n",
       "      <th>latitude</th>\n",
       "      <th>longitude</th>\n",
       "      <th>date</th>\n",
       "      <th>split</th>\n",
       "      <th>longitude_trans</th>\n",
       "      <th>x_grid</th>\n",
       "      <th>y_grid</th>\n",
       "      <th>si10_0</th>\n",
       "      <th>si10_6</th>\n",
       "      <th>si10_12</th>\n",
       "      <th>si10_18</th>\n",
       "    </tr>\n",
       "  </thead>\n",
       "  <tbody>\n",
       "    <tr>\n",
       "      <th>0</th>\n",
       "      <td>aabm</td>\n",
       "      <td>39.080319</td>\n",
       "      <td>-86.430867</td>\n",
       "      <td>2018-05-14</td>\n",
       "      <td>train</td>\n",
       "      <td>273.569133</td>\n",
       "      <td>570</td>\n",
       "      <td>1217</td>\n",
       "      <td>[3.2827246, 3.181132, 4.5628977, 1.469874, 5.1...</td>\n",
       "      <td>[2.754265, 2.4434078, 4.9966908, 1.8574135, 4....</td>\n",
       "      <td>[3.8764026, 4.698638, 4.848489, 2.2207417, 2.2...</td>\n",
       "      <td>[3.8426483, 3.9012308, 5.519078, 5.944332, 4.4...</td>\n",
       "    </tr>\n",
       "    <tr>\n",
       "      <th>1</th>\n",
       "      <td>aabn</td>\n",
       "      <td>36.559700</td>\n",
       "      <td>-121.510000</td>\n",
       "      <td>2016-08-31</td>\n",
       "      <td>test</td>\n",
       "      <td>238.490000</td>\n",
       "      <td>550</td>\n",
       "      <td>192</td>\n",
       "      <td>[nan, nan, 7.3650117, 6.7087016, 6.459569, nan...</td>\n",
       "      <td>[4.7222066, 5.3414426, 4.505594, 3.556739, nan...</td>\n",
       "      <td>[4.2186155, 4.8103733, 4.7934113, 3.5959115, 3...</td>\n",
       "      <td>[nan, 6.190797, nan, 5.934439, 6.4784923, 6.44...</td>\n",
       "    </tr>\n",
       "  </tbody>\n",
       "</table>\n",
       "</div>"
      ],
      "text/plain": [
       "    uid   latitude   longitude        date  split  longitude_trans  x_grid  \\\n",
       "0  aabm  39.080319  -86.430867  2018-05-14  train       273.569133     570   \n",
       "1  aabn  36.559700 -121.510000  2016-08-31   test       238.490000     550   \n",
       "\n",
       "   y_grid                                             si10_0  \\\n",
       "0    1217  [3.2827246, 3.181132, 4.5628977, 1.469874, 5.1...   \n",
       "1     192  [nan, nan, 7.3650117, 6.7087016, 6.459569, nan...   \n",
       "\n",
       "                                              si10_6  \\\n",
       "0  [2.754265, 2.4434078, 4.9966908, 1.8574135, 4....   \n",
       "1  [4.7222066, 5.3414426, 4.505594, 3.556739, nan...   \n",
       "\n",
       "                                             si10_12  \\\n",
       "0  [3.8764026, 4.698638, 4.848489, 2.2207417, 2.2...   \n",
       "1  [4.2186155, 4.8103733, 4.7934113, 3.5959115, 3...   \n",
       "\n",
       "                                             si10_18  \n",
       "0  [3.8426483, 3.9012308, 5.519078, 5.944332, 4.4...  \n",
       "1  [nan, 6.190797, nan, 5.934439, 6.4784923, 6.44...  "
      ]
     },
     "execution_count": 69,
     "metadata": {},
     "output_type": "execute_result"
    }
   ],
   "source": [
    "wind = wind_0.merge(wind_6[['uid','si10_6']] , how=\"inner\", on='uid' , validate=\"1:1\")\n",
    "wind = wind.merge(wind_12[['uid','si10_12']] , how=\"inner\", on='uid' , validate=\"1:1\")\n",
    "wind = wind.merge(wind_18[['uid','si10_18']] , how=\"inner\", on='uid' , validate=\"1:1\")\n",
    "\n",
    "features = ['si10_0','si10_6','si10_12','si10_18']\n",
    "wind = climf.convert_str_to_list(wind, features)\n",
    "wind.head(2)"
   ]
  },
  {
   "cell_type": "code",
   "execution_count": null,
   "metadata": {},
   "outputs": [],
   "source": [
    "#wind\n",
    "for row in (pbar := tqdm(wind.itertuples(), total=len(wind))):\n",
    "    time_ser = join_time_values(row.si10_0, row.si10_6, row.si10_12, row.si10_18)\n",
    "    wind.loc[wind['uid'] == row.uid, ['wind']] = str(time_ser)"
   ]
  },
  {
   "cell_type": "code",
   "execution_count": 44,
   "metadata": {},
   "outputs": [],
   "source": [
    "wind = wind.drop(['si10_0','si10_6','si10_12','si10_18'], axis=1)\n",
    "wind.to_csv('../data/wind_series.csv', index=False)"
   ]
  }
 ],
 "metadata": {
  "kernelspec": {
   "display_name": ".venv",
   "language": "python",
   "name": "python3"
  },
  "language_info": {
   "codemirror_mode": {
    "name": "ipython",
    "version": 3
   },
   "file_extension": ".py",
   "mimetype": "text/x-python",
   "name": "python",
   "nbconvert_exporter": "python",
   "pygments_lexer": "ipython3",
   "version": "3.9.8"
  },
  "orig_nbformat": 4,
  "vscode": {
   "interpreter": {
    "hash": "ad948ff7b48983452e55733fd71e7df6f615a0b1ed05e1cd9f8bab22d77c40aa"
   }
  }
 },
 "nbformat": 4,
 "nbformat_minor": 2
}
