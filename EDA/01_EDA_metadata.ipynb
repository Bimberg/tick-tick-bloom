{
 "cells": [
  {
   "cell_type": "code",
   "execution_count": null,
   "metadata": {},
   "outputs": [],
   "source": []
  }
 ],
 "metadata": {
  "kernelspec": {
   "display_name": "Python 3",
   "language": "python",
   "name": "python3"
  },
  "language_info": {
   "name": "python",
   "version": "3.9.8 (main, Nov 14 2022, 14:26:12) \n[Clang 14.0.0 (clang-1400.0.29.202)]"
  },
  "orig_nbformat": 4,
  "vscode": {
   "interpreter": {
    "hash": "1b378d011de9804d8eae720a5344dc8b7de9c1dd1d64601ef7695a4f0d7e8578"
   }
  }
 },
 "nbformat": 4,
 "nbformat_minor": 2
}
